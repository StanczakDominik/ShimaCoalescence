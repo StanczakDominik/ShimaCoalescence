{
 "cells": [
  {
   "cell_type": "code",
   "execution_count": 12,
   "metadata": {},
   "outputs": [
    {
     "data": {
      "text/latex": [
       "$1 \\times 10^{10} \\; \\mathrm{}$"
      ],
      "text/plain": [
       "<Quantity 1.e+10>"
      ]
     },
     "execution_count": 12,
     "metadata": {},
     "output_type": "execute_result"
    }
   ],
   "source": [
    "import numpy as np\n",
    "from astropy import units as u\n",
    "import tqdm\n",
    "from scipy.stats import expon\n",
    "import matplotlib.pyplot as plt\n",
    "import seaborn\n",
    "from astropy.visualization import quantity_support\n",
    "V = 1e6 * u.m**3 # coalescence cell volume\n",
    "n0 = 100 / u.cm**3 # initial number density of droplets\n",
    "N = 10000   # initial number of super-droplets\n",
    "multiplicity = (n0*V/N * np.ones(N)).astype(int).si\n",
    "multiplicity[0]"
   ]
  },
  {
   "cell_type": "code",
   "execution_count": 13,
   "metadata": {},
   "outputs": [],
   "source": [
    "dt = 0.01 * u.s"
   ]
  },
  {
   "cell_type": "code",
   "execution_count": 14,
   "metadata": {},
   "outputs": [
    {
     "data": {
      "text/latex": [
       "$30.531 \\; \\mathrm{\\mu m}$"
      ],
      "text/plain": [
       "<Quantity 30.531 micron>"
      ]
     },
     "execution_count": 14,
     "metadata": {},
     "output_type": "execute_result"
    }
   ],
   "source": [
    "r_average = 30.531 * u.micron\n",
    "r_average"
   ]
  },
  {
   "cell_type": "code",
   "execution_count": 15,
   "metadata": {},
   "outputs": [
    {
     "data": {
      "text/latex": [
       "$119209.73 \\; \\mathrm{\\mu m^{3}}$"
      ],
      "text/plain": [
       "<Quantity 119209.72798966 micron3>"
      ]
     },
     "execution_count": 15,
     "metadata": {},
     "output_type": "execute_result"
    }
   ],
   "source": [
    "v_average = 4 * np.pi / 3 * r_average ** 3\n",
    "v_average"
   ]
  },
  {
   "cell_type": "code",
   "execution_count": 16,
   "metadata": {},
   "outputs": [],
   "source": [
    "exponential_distribution = expon(0, v_average.to(u.m**3))\n",
    "volumes = exponential_distribution.rvs(int(1e4)) * u.m**3"
   ]
  },
  {
   "cell_type": "code",
   "execution_count": 17,
   "metadata": {},
   "outputs": [
    {
     "data": {
      "image/png": "[encoded data removed]",
      "text/plain": [
       "<Figure size 432x288 with 1 Axes>"
      ]
     },
     "metadata": {
      "needs_background": "light"
     },
     "output_type": "display_data"
    }
   ],
   "source": [
    "with quantity_support():\n",
    "    seaborn.distplot(volumes)"
   ]
  },
  {
   "cell_type": "code",
   "execution_count": 18,
   "metadata": {},
   "outputs": [
    {
     "data": {
      "image/png": "[encoded data removed]",
      "text/plain": [
       "<Figure size 432x288 with 1 Axes>"
      ]
     },
     "metadata": {
      "needs_background": "light"
     },
     "output_type": "display_data"
    }
   ],
   "source": [
    "radii = (3 * volumes / (4 * np.pi))**(1/3)\n",
    "with quantity_support():\n",
    "    seaborn.distplot(radii)"
   ]
  },
  {
   "cell_type": "code",
   "execution_count": 24,
   "metadata": {},
   "outputs": [
    {
     "data": {
      "text/plain": [
       "0.8946"
      ]
     },
     "execution_count": 24,
     "metadata": {},
     "output_type": "execute_result"
    }
   ],
   "source": [
    "np.sum(radii < 40*u.micrometer) / len(radii)"
   ]
  },
  {
   "cell_type": "code",
   "execution_count": 25,
   "metadata": {},
   "outputs": [
    {
     "data": {
      "text/plain": [
       "0.0"
      ]
     },
     "execution_count": 25,
     "metadata": {},
     "output_type": "execute_result"
    }
   ],
   "source": [
    "np.sum(radii > 600*u.micrometer) / len(radii)"
   ]
  },
  {
   "cell_type": "code",
   "execution_count": 31,
   "metadata": {},
   "outputs": [],
   "source": [
    "def terminal_velocity(radius, alpha, beta):\n",
    "    \"\"\" Rogers (1976), page 2 of Terminal Velocities of Droplets and Crystals: Power Laws with Continuous Parameters over the Size Spectrum\n",
    "    \"\"\"\n",
    "    k1 = 1.19e6 / u.cm / u.s\n",
    "    k2 = 8e3 / u.s\n",
    "    indices_turbulent = radius > 40 * u.micrometer\n",
    "    velocities = u.Quantity(np.empty(radius.size), unit=u.m/u.s)\n",
    "    velocities[indices_turbulent] = k1 * radius[indices_turbulent] ** 2\n",
    "    velocities[~indices_turbulent] = k2 * radius[~indices_turbulent]\n",
    "    \n",
    "    return velocities"
   ]
  },
  {
   "cell_type": "code",
   "execution_count": 32,
   "metadata": {},
   "outputs": [],
   "source": [
    "volumes = exponential_distribution.rvs(N) * u.m**3\n",
    "radii = (3 * volumes / (4 * np.pi))**(1/3)\n",
    "E_jk = 1 # TODO\n",
    "terminal_velocities = terminal_velocity(radii, alpha=1, beta=1) # TODO"
   ]
  },
  {
   "cell_type": "markdown",
   "metadata": {},
   "source": [
    "4. Develop a subroutine to evaluate the collision probabilities. First in the\n",
    "primitive model (i.e., Pjk in the system of real droplets), and then in the\n",
    "system of super-droplets (i.e, Pjk(SD) for sampling over the whole set of col-\n",
    "liding pairs and Pjk(SD,LS)\n",
    " for the linear sampling).\n",
    " \n",
    "$$P_{jk} = E_{jk} \\pi (r_j + r_k)^2 |u(r_j) - u(r_k)| \\Delta t / V $$"
   ]
  },
  {
   "cell_type": "code",
   "execution_count": 33,
   "metadata": {},
   "outputs": [],
   "source": [
    "# P = u.Quantity(np.empty((N, N)))\n",
    "# for j in tqdm.tqdm_notebook(range(N)):\n",
    "#     for k in range(j, N):\n",
    "#         P[j,k] = P[k, j] = E_jk * np.pi * (radii[j] + radii[k])**2 * \\\n",
    "#                      np.abs(terminal_velocities[j] - terminal_velocities[k]) * dt / V\n",
    "# P\n",
    "\n",
    "# %%timeit\n",
    "# for j in range(N):\n",
    "#     for k in range(j, N):\n",
    "#         P[j,k] = P[k, j] = E_jk * np.pi * (radii[j] + radii[k])**2 * \\\n",
    "#                      np.abs(terminal_velocities[j] - terminal_velocities[k]) * dt / V\n",
    "# np.testing.assert_allclose(P, P_numpy)\n",
    "\n",
    "#  ![Whoa.](https://media1.tenor.com/images/bd2f86e9569a3809c044cbcb250990b2/tenor.gif?itemid=12028915)"
   ]
  },
  {
   "cell_type": "code",
   "execution_count": 34,
   "metadata": {},
   "outputs": [],
   "source": [
    "P_numpy = E_jk * np.pi * (radii.reshape(N, 1) + radii.reshape(1, N))**2 * dt / V * \\\n",
    "                 np.abs(terminal_velocities.reshape(N, 1) - terminal_velocities.reshape(1, N))"
   ]
  },
  {
   "cell_type": "code",
   "execution_count": 35,
   "metadata": {},
   "outputs": [
    {
     "name": "stdout",
     "output_type": "stream",
     "text": [
      "1.92 s ± 180 ms per loop (mean ± std. dev. of 7 runs, 1 loop each)\n"
     ]
    }
   ],
   "source": [
    "%%timeit\n",
    "P_numpy = E_jk * np.pi * (radii.reshape(N, 1) + radii.reshape(1, N))**2 * dt / V * \\\n",
    "                 np.abs(terminal_velocities.reshape(N, 1) - terminal_velocities.reshape(1, N))"
   ]
  },
  {
   "cell_type": "code",
   "execution_count": 36,
   "metadata": {},
   "outputs": [
    {
     "data": {
      "text/plain": [
       "array([[ 626, 7350],\n",
       "       [8649, 9793],\n",
       "       [9691, 4637],\n",
       "       [6398,  491],\n",
       "       [2403, 1872]])"
      ]
     },
     "execution_count": 36,
     "metadata": {},
     "output_type": "execute_result"
    }
   ],
   "source": [
    "pairs = np.random.permutation(range(N)).reshape(int(N/2), 2)\n",
    "pairs[:5]"
   ]
  },
  {
   "cell_type": "code",
   "execution_count": 37,
   "metadata": {},
   "outputs": [],
   "source": [
    "j_indices, k_indices = pairs.T\n",
    "P_pairs = E_jk * np.pi * (radii[j_indices] + radii[k_indices])**2 * dt / V * \\\n",
    "                 np.abs(terminal_velocities[j_indices] - terminal_velocities[k_indices])"
   ]
  },
  {
   "cell_type": "code",
   "execution_count": 38,
   "metadata": {},
   "outputs": [
    {
     "data": {
      "text/plain": [
       "<matplotlib.axes._subplots.AxesSubplot at 0x7f3825f98860>"
      ]
     },
     "execution_count": 38,
     "metadata": {},
     "output_type": "execute_result"
    },
    {
     "data": {
      "image/png": "[encoded data removed]",
      "text/plain": [
       "<Figure size 432x288 with 1 Axes>"
      ]
     },
     "metadata": {
      "needs_background": "light"
     },
     "output_type": "display_data"
    }
   ],
   "source": [
    "seaborn.distplot(P_pairs)"
   ]
  },
  {
   "cell_type": "code",
   "execution_count": 39,
   "metadata": {},
   "outputs": [
    {
     "data": {
      "text/plain": [
       "<matplotlib.axes._subplots.AxesSubplot at 0x7f3824501b38>"
      ]
     },
     "execution_count": 39,
     "metadata": {},
     "output_type": "execute_result"
    },
    {
     "data": {
      "image/png": "[encoded data removed]",
      "text/plain": [
       "<Figure size 432x288 with 1 Axes>"
      ]
     },
     "metadata": {
      "needs_background": "light"
     },
     "output_type": "display_data"
    }
   ],
   "source": [
    "seaborn.distplot(P_numpy.flatten())"
   ]
  },
  {
   "cell_type": "code",
   "execution_count": 40,
   "metadata": {},
   "outputs": [],
   "source": [
    "def pairwise_probabilities(radii, alpha, beta, dt, V, E_jk):\n",
    "    terminal_velocities = terminal_velocity(radii, alpha, beta)\n",
    "    N = radii.size\n",
    "    pairs = np.random.permutation(range(N)).reshape(int(N/2), 2)\n",
    "    j_indices, k_indices = pairs.T\n",
    "    P_pairs = E_jk * np.pi * (radii[j_indices] + radii[k_indices])**2 * dt / V * \\\n",
    "                     np.abs(terminal_velocities[j_indices] - terminal_velocities[k_indices])\n",
    "    return j_indices, k_indices, P_pairs"
   ]
  },
  {
   "cell_type": "code",
   "execution_count": 41,
   "metadata": {},
   "outputs": [
    {
     "name": "stdout",
     "output_type": "stream",
     "text": [
      "3.12 ms ± 406 µs per loop (mean ± std. dev. of 7 runs, 100 loops each)\n"
     ]
    }
   ],
   "source": [
    "%%timeit\n",
    "pairwise_probabilities(radii, 1, 1, dt=dt, V=V, E_jk=E_jk)\n",
    "# pairs = np.random.permutation(range(N)).reshape(int(N/2), 2)\n",
    "# j_indices, k_indices = pairs.T\n",
    "# P_pairs = E_jk * np.pi * (radii[j_indices] + radii[k_indices])**2 * dt / V * \\\n",
    "#                  np.abs(terminal_velocities[j_indices] - terminal_velocities[k_indices])"
   ]
  },
  {
   "cell_type": "markdown",
   "metadata": {},
   "source": [
    "5. Develop a subroutine to compute the change of the super-droplets state after\n",
    "a coalescence event. How should we proceed when ξj = ξk = 1 (what\n",
    "results in ξj 0 = 0 and ξk 0 = 1 after coalescence)?"
   ]
  },
  {
   "cell_type": "code",
   "execution_count": 42,
   "metadata": {},
   "outputs": [
    {
     "data": {
      "text/latex": [
       "$[3.9661463 \\times 10^{-8},~4.9967522 \\times 10^{-8},~6.1467774 \\times 10^{-8},~\\dots,~4.5851924 \\times 10^{-8},~3.5892436 \\times 10^{-8},~2.9239031 \\times 10^{-9}] \\; \\mathrm{}$"
      ],
      "text/plain": [
       "<Quantity [3.96614627e-08, 4.99675224e-08, 6.14677742e-08, ...,\n",
       "           4.58519243e-08, 3.58924358e-08, 2.92390314e-09]>"
      ]
     },
     "execution_count": 42,
     "metadata": {},
     "output_type": "execute_result"
    }
   ],
   "source": [
    "j_indices, k_indices, P_pairs = pairwise_probabilities(radii, alpha=1, beta=1, dt=dt, V=V, E_jk=1e10)\n",
    "P_pairs"
   ]
  },
  {
   "cell_type": "code",
   "execution_count": 45,
   "metadata": {},
   "outputs": [],
   "source": [
    "from math import floor\n",
    "def apply_coalescence(multiplicity_j, radius_j, multiplicity_k, radius_k):\n",
    "#     if multiplicity_j == multiplicity_k == 1:\n",
    "#         raise NotImplementedError(\"Remove j from simulation\") # TODO\n",
    "#         new_multiplicity_j = new_radius_j = np.nan\n",
    "#         new_\n",
    "#     assert isinstance(multiplicity_j, int) & isinstance(multiplicity_k, int)\n",
    "    if multiplicity_j == multiplicity_k:\n",
    "        new_multiplicity_j = int(floor(multiplicity_j/2))\n",
    "        new_multiplicity_k = multiplicity_j - new_multiplicity_j\n",
    "        new_radius_j = new_radius_k = (radius_j**3 + radius_k**3)**(1/3)\n",
    "    elif multiplicity_j > multiplicity_k:\n",
    "        new_multiplicity_j = multiplicity_j - multiplicity_k\n",
    "        new_multiplicity_k = multiplicity_k\n",
    "        new_radius_j = radius_j\n",
    "        new_radius_k = (radius_j **3 + radius_k**3)**(1/3)\n",
    "    elif multiplicity_j < multiplicity_k:\n",
    "        new_multiplicity_k = multiplicity_k - multiplicity_j\n",
    "        new_multiplicity_j = multiplicity_j\n",
    "        new_radius_k = radius_k\n",
    "        new_radius_j = (radius_k **3 + radius_j**3)**(1/3)\n",
    "    else:\n",
    "        raise ValueError(\"wat\")\n",
    "    return new_multiplicity_j, new_radius_j, new_multiplicity_k, new_radius_k\n",
    "\n",
    "def vector_coalescence(multiplicity, radii, j_indices, k_indices):\n",
    "    # TODO try np.take\n",
    "    multiplicity_j = multiplicity[j_indices]\n",
    "    multiplicity_k = multiplicity[k_indices]\n",
    "    equals = multiplicity_j == multiplicity_k\n",
    "#     multiplicity[equals &]"
   ]
  },
  {
   "cell_type": "code",
   "execution_count": 46,
   "metadata": {},
   "outputs": [],
   "source": [
    "np.random.seed(0)\n",
    "beta = 1\n",
    "alpha = 1e12\n",
    "indices_j, indices_k, P_jk = pairwise_probabilities(radii, alpha, beta, dt, V, 1e6)\n",
    "coalesced = P_jk > 5e-3"
   ]
  },
  {
   "cell_type": "code",
   "execution_count": 48,
   "metadata": {},
   "outputs": [],
   "source": [
    "# coalesced_pairs = np.vstack((indices_j[coalesced], indices_k[coalesced]))\n",
    "# multiplicity_j, multiplicity_k = np.take(multiplicity, coalesced_pairs)\n",
    "# radius_j, radius_k = np.take(radii, coalesced_pairs)\n",
    "\n",
    "# indices_equal = multiplicity_j == multiplicity_k\n",
    "\n",
    "# # equal case\n",
    "# new_multiplicity_j = np.floor(multiplicity_j / 2).astype(int)\n",
    "# new_multiplicity_k = multiplicity_j - new_multiplicity_j\n",
    "# new_radius_j = new_radius_k = (radius_j**3 + radius_k**3)**(1/3)\n",
    "\n",
    "# # j > k\n",
    "# indices_j_larger = multiplicity_j > multiplicity_k\n",
    "# new_multiplicity_j = multiplicity_j[]\n",
    "# indices_k_larger = multiplicity_j < multiplicity_k\n",
    "\n",
    "# clear oout"
   ]
  },
  {
   "cell_type": "code",
   "execution_count": 49,
   "metadata": {},
   "outputs": [
    {
     "data": {
      "text/plain": [
       "(0, 1.2599210498948732, 1, 1.2599210498948732)"
      ]
     },
     "execution_count": 49,
     "metadata": {},
     "output_type": "execute_result"
    }
   ],
   "source": [
    "apply_coalescence(1, 1, 1, 1)"
   ]
  },
  {
   "cell_type": "code",
   "execution_count": 50,
   "metadata": {},
   "outputs": [
    {
     "data": {
      "text/plain": [
       "(5, 12.59921049894873, 5, 12.59921049894873)"
      ]
     },
     "execution_count": 50,
     "metadata": {},
     "output_type": "execute_result"
    }
   ],
   "source": [
    "apply_coalescence(10, 10, 10, 10)"
   ]
  },
  {
   "cell_type": "code",
   "execution_count": 51,
   "metadata": {},
   "outputs": [
    {
     "data": {
      "text/plain": [
       "(10, 20.800838230519037, 10, 20)"
      ]
     },
     "execution_count": 51,
     "metadata": {},
     "output_type": "execute_result"
    }
   ],
   "source": [
    "apply_coalescence(10, 10, 20, 20)"
   ]
  },
  {
   "cell_type": "code",
   "execution_count": 52,
   "metadata": {},
   "outputs": [
    {
     "data": {
      "text/plain": [
       "(10, 20, 10, 20.800838230519037)"
      ]
     },
     "execution_count": 52,
     "metadata": {},
     "output_type": "execute_result"
    }
   ],
   "source": [
    "apply_coalescence(20, 20, 10, 10)"
   ]
  },
  {
   "cell_type": "code",
   "execution_count": 53,
   "metadata": {},
   "outputs": [],
   "source": [
    "def droplet_number_density(multiplicity, V):\n",
    "    return np.sum(multiplicity) / V\n",
    "\n",
    "def precipitation_rate(multiplicity, radius, V, alpha, beta):\n",
    "    return np.pi / 6.0 / V * np.sum(multiplicity * (2 * radius)**3 * terminal_velocity(radius, alpha, beta))\n",
    "\n",
    "def radar_reflectivity_factor(multiplicity, radius, V, z0=1*u.mm**6*u.mm**-3):\n",
    "    z = np.sum(multiplicity * (2 * radius)**6) / V\n",
    "    Z = 10 * np.log10(z/z0)\n",
    "    return Z"
   ]
  },
  {
   "cell_type": "code",
   "execution_count": 54,
   "metadata": {},
   "outputs": [
    {
     "data": {
      "text/latex": [
       "$1 \\times 10^{8} \\; \\mathrm{\\frac{1}{m^{3}}}$"
      ],
      "text/plain": [
       "<Quantity 99999999.99999999 1 / m3>"
      ]
     },
     "execution_count": 54,
     "metadata": {},
     "output_type": "execute_result"
    }
   ],
   "source": [
    "droplet_number_density(multiplicity, V)"
   ]
  },
  {
   "cell_type": "code",
   "execution_count": 55,
   "metadata": {},
   "outputs": [
    {
     "data": {
      "text/latex": [
       "$3.0555231 \\times 10^{-6} \\; \\mathrm{\\frac{m}{s}}$"
      ],
      "text/plain": [
       "<Quantity 3.05552311e-06 m / s>"
      ]
     },
     "execution_count": 55,
     "metadata": {},
     "output_type": "execute_result"
    }
   ],
   "source": [
    "precipitation_rate(multiplicity, radii, V, alpha=1, beta=1)"
   ]
  },
  {
   "cell_type": "code",
   "execution_count": 56,
   "metadata": {},
   "outputs": [
    {
     "data": {
      "text/latex": [
       "$-79.707241 \\; \\mathrm{}$"
      ],
      "text/plain": [
       "<Quantity -79.70724142>"
      ]
     },
     "execution_count": 56,
     "metadata": {},
     "output_type": "execute_result"
    }
   ],
   "source": [
    "radar_reflectivity_factor(multiplicity, radii, V)"
   ]
  },
  {
   "cell_type": "code",
   "execution_count": 57,
   "metadata": {},
   "outputs": [
    {
     "data": {
      "application/vnd.jupyter.widget-view+json": {
       "model_id": "f3ec342d5ddc4dcfbd8a5e6c7fc7116a",
       "version_major": 2,
       "version_minor": 0
      },
      "text/plain": [
       "HBox(children=(IntProgress(value=0, max=50), HTML(value='')))"
      ]
     },
     "metadata": {},
     "output_type": "display_data"
    },
    {
     "ename": "ValueError",
     "evalue": "cannot reshape array of size 9999 into shape (4999,2)",
     "output_type": "error",
     "traceback": [
      "\u001b[0;31m---------------------------------------------------------------------------\u001b[0m",
      "\u001b[0;31mValueError\u001b[0m                                Traceback (most recent call last)",
      "\u001b[0;32m<ipython-input-57-55cff14894fb>\u001b[0m in \u001b[0;36m<module>\u001b[0;34m\u001b[0m\n\u001b[1;32m     33\u001b[0m     \u001b[0;32mreturn\u001b[0m \u001b[0mdiagnostics\u001b[0m\u001b[0;34m,\u001b[0m \u001b[0mtables\u001b[0m\u001b[0;34m\u001b[0m\u001b[0;34m\u001b[0m\u001b[0m\n\u001b[1;32m     34\u001b[0m \u001b[0;34m\u001b[0m\u001b[0m\n\u001b[0;32m---> 35\u001b[0;31m \u001b[0mdiagnostics\u001b[0m\u001b[0;34m,\u001b[0m \u001b[0mtables\u001b[0m \u001b[0;34m=\u001b[0m \u001b[0msimulation\u001b[0m\u001b[0;34m(\u001b[0m\u001b[0mmultiplicity\u001b[0m\u001b[0;34m,\u001b[0m \u001b[0mradii\u001b[0m\u001b[0;34m,\u001b[0m \u001b[0mdt\u001b[0m\u001b[0;34m,\u001b[0m \u001b[0mint\u001b[0m\u001b[0;34m(\u001b[0m\u001b[0;36m5e1\u001b[0m\u001b[0;34m)\u001b[0m\u001b[0;34m,\u001b[0m \u001b[0mV\u001b[0m\u001b[0;34m,\u001b[0m \u001b[0mE_jk\u001b[0m\u001b[0;34m=\u001b[0m\u001b[0;36m1e9\u001b[0m\u001b[0;34m,\u001b[0m \u001b[0malpha\u001b[0m\u001b[0;34m=\u001b[0m\u001b[0;36m1\u001b[0m\u001b[0;34m,\u001b[0m \u001b[0mbeta\u001b[0m\u001b[0;34m=\u001b[0m\u001b[0;36m1\u001b[0m\u001b[0;34m)\u001b[0m\u001b[0;34m\u001b[0m\u001b[0;34m\u001b[0m\u001b[0m\n\u001b[0m\u001b[1;32m     36\u001b[0m \u001b[0;32mimport\u001b[0m \u001b[0mpandas\u001b[0m \u001b[0;32mas\u001b[0m \u001b[0mpd\u001b[0m\u001b[0;34m\u001b[0m\u001b[0;34m\u001b[0m\u001b[0m\n\u001b[1;32m     37\u001b[0m \u001b[0mdf\u001b[0m \u001b[0;34m=\u001b[0m \u001b[0mpd\u001b[0m\u001b[0;34m.\u001b[0m\u001b[0mDataFrame\u001b[0m\u001b[0;34m(\u001b[0m\u001b[0mdiagnostics\u001b[0m\u001b[0;34m)\u001b[0m\u001b[0;34m\u001b[0m\u001b[0;34m\u001b[0m\u001b[0m\n",
      "\u001b[0;32m<ipython-input-57-55cff14894fb>\u001b[0m in \u001b[0;36msimulation\u001b[0;34m(multiplicity, radii, dt, NT, V, E_jk, alpha, beta)\u001b[0m\n\u001b[1;32m      6\u001b[0m     \u001b[0;32mfor\u001b[0m \u001b[0mi\u001b[0m \u001b[0;32min\u001b[0m \u001b[0mtqdm\u001b[0m\u001b[0;34m.\u001b[0m\u001b[0mtqdm_notebook\u001b[0m\u001b[0;34m(\u001b[0m\u001b[0mrange\u001b[0m\u001b[0;34m(\u001b[0m\u001b[0mNT\u001b[0m\u001b[0;34m)\u001b[0m\u001b[0;34m)\u001b[0m\u001b[0;34m:\u001b[0m\u001b[0;34m\u001b[0m\u001b[0;34m\u001b[0m\u001b[0m\n\u001b[1;32m      7\u001b[0m         \u001b[0mN\u001b[0m \u001b[0;34m=\u001b[0m \u001b[0mradii\u001b[0m\u001b[0;34m.\u001b[0m\u001b[0msize\u001b[0m \u001b[0;31m# this can change dynamically\u001b[0m\u001b[0;34m\u001b[0m\u001b[0;34m\u001b[0m\u001b[0m\n\u001b[0;32m----> 8\u001b[0;31m         \u001b[0mindices_j\u001b[0m\u001b[0;34m,\u001b[0m \u001b[0mindices_k\u001b[0m\u001b[0;34m,\u001b[0m \u001b[0mP_jk\u001b[0m \u001b[0;34m=\u001b[0m \u001b[0mpairwise_probabilities\u001b[0m\u001b[0;34m(\u001b[0m\u001b[0mradii\u001b[0m\u001b[0;34m,\u001b[0m \u001b[0malpha\u001b[0m\u001b[0;34m,\u001b[0m \u001b[0mbeta\u001b[0m\u001b[0;34m,\u001b[0m \u001b[0mdt\u001b[0m\u001b[0;34m,\u001b[0m \u001b[0mV\u001b[0m\u001b[0;34m,\u001b[0m \u001b[0mE_jk\u001b[0m\u001b[0;34m)\u001b[0m\u001b[0;34m\u001b[0m\u001b[0;34m\u001b[0m\u001b[0m\n\u001b[0m\u001b[1;32m      9\u001b[0m         \u001b[0mmultiplicities_j\u001b[0m \u001b[0;34m=\u001b[0m \u001b[0mmultiplicity\u001b[0m\u001b[0;34m[\u001b[0m\u001b[0mindices_j\u001b[0m\u001b[0;34m]\u001b[0m\u001b[0;34m\u001b[0m\u001b[0;34m\u001b[0m\u001b[0m\n\u001b[1;32m     10\u001b[0m         \u001b[0mmultiplicities_k\u001b[0m \u001b[0;34m=\u001b[0m \u001b[0mmultiplicity\u001b[0m\u001b[0;34m[\u001b[0m\u001b[0mindices_k\u001b[0m\u001b[0;34m]\u001b[0m\u001b[0;34m\u001b[0m\u001b[0;34m\u001b[0m\u001b[0m\n",
      "\u001b[0;32m<ipython-input-40-aa1b5a95c999>\u001b[0m in \u001b[0;36mpairwise_probabilities\u001b[0;34m(radii, alpha, beta, dt, V, E_jk)\u001b[0m\n\u001b[1;32m      2\u001b[0m     \u001b[0mterminal_velocities\u001b[0m \u001b[0;34m=\u001b[0m \u001b[0mterminal_velocity\u001b[0m\u001b[0;34m(\u001b[0m\u001b[0mradii\u001b[0m\u001b[0;34m,\u001b[0m \u001b[0malpha\u001b[0m\u001b[0;34m,\u001b[0m \u001b[0mbeta\u001b[0m\u001b[0;34m)\u001b[0m\u001b[0;34m\u001b[0m\u001b[0;34m\u001b[0m\u001b[0m\n\u001b[1;32m      3\u001b[0m     \u001b[0mN\u001b[0m \u001b[0;34m=\u001b[0m \u001b[0mradii\u001b[0m\u001b[0;34m.\u001b[0m\u001b[0msize\u001b[0m\u001b[0;34m\u001b[0m\u001b[0;34m\u001b[0m\u001b[0m\n\u001b[0;32m----> 4\u001b[0;31m     \u001b[0mpairs\u001b[0m \u001b[0;34m=\u001b[0m \u001b[0mnp\u001b[0m\u001b[0;34m.\u001b[0m\u001b[0mrandom\u001b[0m\u001b[0;34m.\u001b[0m\u001b[0mpermutation\u001b[0m\u001b[0;34m(\u001b[0m\u001b[0mrange\u001b[0m\u001b[0;34m(\u001b[0m\u001b[0mN\u001b[0m\u001b[0;34m)\u001b[0m\u001b[0;34m)\u001b[0m\u001b[0;34m.\u001b[0m\u001b[0mreshape\u001b[0m\u001b[0;34m(\u001b[0m\u001b[0mint\u001b[0m\u001b[0;34m(\u001b[0m\u001b[0mN\u001b[0m\u001b[0;34m/\u001b[0m\u001b[0;36m2\u001b[0m\u001b[0;34m)\u001b[0m\u001b[0;34m,\u001b[0m \u001b[0;36m2\u001b[0m\u001b[0;34m)\u001b[0m\u001b[0;34m\u001b[0m\u001b[0;34m\u001b[0m\u001b[0m\n\u001b[0m\u001b[1;32m      5\u001b[0m     \u001b[0mj_indices\u001b[0m\u001b[0;34m,\u001b[0m \u001b[0mk_indices\u001b[0m \u001b[0;34m=\u001b[0m \u001b[0mpairs\u001b[0m\u001b[0;34m.\u001b[0m\u001b[0mT\u001b[0m\u001b[0;34m\u001b[0m\u001b[0;34m\u001b[0m\u001b[0m\n\u001b[1;32m      6\u001b[0m     \u001b[0mP_pairs\u001b[0m \u001b[0;34m=\u001b[0m \u001b[0mE_jk\u001b[0m \u001b[0;34m*\u001b[0m \u001b[0mnp\u001b[0m\u001b[0;34m.\u001b[0m\u001b[0mpi\u001b[0m \u001b[0;34m*\u001b[0m \u001b[0;34m(\u001b[0m\u001b[0mradii\u001b[0m\u001b[0;34m[\u001b[0m\u001b[0mj_indices\u001b[0m\u001b[0;34m]\u001b[0m \u001b[0;34m+\u001b[0m \u001b[0mradii\u001b[0m\u001b[0;34m[\u001b[0m\u001b[0mk_indices\u001b[0m\u001b[0;34m]\u001b[0m\u001b[0;34m)\u001b[0m\u001b[0;34m**\u001b[0m\u001b[0;36m2\u001b[0m \u001b[0;34m*\u001b[0m \u001b[0mdt\u001b[0m \u001b[0;34m/\u001b[0m \u001b[0mV\u001b[0m \u001b[0;34m*\u001b[0m\u001b[0;31m \u001b[0m\u001b[0;31m\\\u001b[0m\u001b[0;34m\u001b[0m\u001b[0;34m\u001b[0m\u001b[0m\n",
      "\u001b[0;31mValueError\u001b[0m: cannot reshape array of size 9999 into shape (4999,2)"
     ]
    }
   ],
   "source": [
    "def simulation(multiplicity, radii, dt, NT, V, E_jk, alpha=1, beta=1):\n",
    "    tables = [{\"multiplicity\":multiplicity, \"radii\":radii}]\n",
    "    multiplicity = multiplicity.copy()\n",
    "    radii = radii.copy()\n",
    "    diagnostics = []\n",
    "    for i in tqdm.tqdm_notebook(range(NT)):\n",
    "        N = radii.size # this can change dynamically\n",
    "        indices_j, indices_k, P_jk = pairwise_probabilities(radii, alpha, beta, dt, V, E_jk)\n",
    "        multiplicities_j = multiplicity[indices_j]\n",
    "        multiplicities_k = multiplicity[indices_k]\n",
    "        max_multiplicities = np.max(np.vstack((multiplicities_j, multiplicities_k)), axis=0)\n",
    "        fixed_probabilities = max_multiplicities * P_jk \n",
    "        random_numbers = np.random.random(fixed_probabilities.size)\n",
    "        coalescing_pairs = fixed_probabilities > random_numbers\n",
    "        num_coalesced = coalescing_pairs.sum()\n",
    "        for j, k in zip(indices_j[coalescing_pairs], indices_k[coalescing_pairs]): # TODO rewrite this in array style\n",
    "            multiplicity[j], radii[j], multiplicity[k], radii[k] = apply_coalescence(multiplicity[j], radii[j], multiplicity[k], radii[k])\n",
    "        removed_particles = multiplicity == 0\n",
    "        multiplicity = multiplicity[~removed_particles]\n",
    "        radii = radii[~removed_particles]\n",
    "        diagnostics.append({\n",
    "            \"N_superdroplets\":N,\n",
    "            \"num_coalesced\":num_coalesced,\n",
    "            \"mean_probability\":fixed_probabilities.mean(),\n",
    "            \"droplet_number_density\":droplet_number_density(multiplicity, V).si.value,\n",
    "            \"precipitation_rate\":precipitation_rate(multiplicity, radii, V, alpha, beta).si.value,\n",
    "            \"radar_reflectivity_factor\":radar_reflectivity_factor(multiplicity,radii,V).si.value,\n",
    "        })\n",
    "        tables.append({\n",
    "            \"multiplicity\":multiplicity.copy(),\n",
    "            \"radii\": radii.copy()\n",
    "        })\n",
    "    return diagnostics, tables\n",
    "\n",
    "diagnostics, tables = simulation(multiplicity, radii, dt, int(5e1), V, E_jk=1e9, alpha=1, beta=1)\n",
    "import pandas as pd\n",
    "df = pd.DataFrame(diagnostics)\n",
    "for col in df.columns:\n",
    "    try:\n",
    "        df.plot(y=col)\n",
    "    except TypeError:\n",
    "        print(f\"Failed to print for {col}\")\n",
    "df.tail()"
   ]
  },
  {
   "cell_type": "code",
   "execution_count": 52,
   "metadata": {},
   "outputs": [],
   "source": [
    "%load_ext line_profiler"
   ]
  },
  {
   "cell_type": "code",
   "execution_count": 54,
   "metadata": {},
   "outputs": [
    {
     "data": {
      "application/vnd.jupyter.widget-view+json": {
       "model_id": "b3b9cea9f82b4aca83dbe6471f523104",
       "version_major": 2,
       "version_minor": 0
      },
      "text/plain": [
       "HBox(children=(IntProgress(value=0, max=500), HTML(value='')))"
      ]
     },
     "metadata": {},
     "output_type": "display_data"
    },
    {
     "data": {
      "text/plain": [
       "Timer unit: 1e-06 s\n",
       "\n",
       "Total time: 126.737 s\n",
       "File: <ipython-input-53-15a7c4124508>\n",
       "Function: simulation at line 1\n",
       "\n",
       "Line #      Hits         Time  Per Hit   % Time  Line Contents\n",
       "==============================================================\n",
       "     1                                           def simulation(multiplicity, radii, dt, NT, V, E_jk, alpha=1, beta=1):\n",
       "     2         1          2.0      2.0      0.0      tables = [{\"multiplicity\":multiplicity, \"radii\":radii}]\n",
       "     3         1         31.0     31.0      0.0      multiplicity = multiplicity.copy()\n",
       "     4         1         13.0     13.0      0.0      radii = radii.copy()\n",
       "     5         1          1.0      1.0      0.0      diagnostics = []\n",
       "     6       501     939536.0   1875.3      0.7      for i in tqdm.tqdm_notebook(range(NT)):\n",
       "     7       500       1921.0      3.8      0.0          N = radii.size # this can change dynamically\n",
       "     8       500    2496640.0   4993.3      2.0          indices_j, indices_k, P_jk = pairwise_probabilities(radii, alpha, beta, dt, V, E_jk)\n",
       "     9       500      29105.0     58.2      0.0          multiplicities_j = multiplicity[indices_j]\n",
       "    10       500      12544.0     25.1      0.0          multiplicities_k = multiplicity[indices_k]\n",
       "    11       500      79830.0    159.7      0.1          max_multiplicities = np.max(np.vstack((multiplicities_j, multiplicities_k)), axis=0)\n",
       "    12       500      38166.0     76.3      0.0          fixed_probabilities = max_multiplicities * P_jk \n",
       "    13       500      28433.0     56.9      0.0          random_numbers = np.random.random(fixed_probabilities.size)\n",
       "    14       500      30757.0     61.5      0.0          coalescing_pairs = fixed_probabilities > random_numbers\n",
       "    15       500      14151.0     28.3      0.0          num_coalesced = coalescing_pairs.sum()\n",
       "    16    166481     431859.0      2.6      0.3          for j, k in zip(indices_j[coalescing_pairs], indices_k[coalescing_pairs]): # TODO rewrite this in array style\n",
       "    17    165981  110638597.0    666.6     87.3              multiplicity[j], radii[j], multiplicity[k], radii[k] = apply_coalescence(multiplicity[j], radii[j], multiplicity[k], radii[k])\n",
       "    18       500      89600.0    179.2      0.1          removed_particles = multiplicity == 0\n",
       "    19       500      23917.0     47.8      0.0          multiplicity = multiplicity[~removed_particles]\n",
       "    20       500      18674.0     37.3      0.0          radii = radii[~removed_particles]\n",
       "    21       500       1403.0      2.8      0.0          diagnostics.append({\n",
       "    22       500        424.0      0.8      0.0              \"N_superdroplets\":N,\n",
       "    23       500        371.0      0.7      0.0              \"num_coalesced\":num_coalesced,\n",
       "    24       500      46801.0     93.6      0.0              \"mean_probability\":fixed_probabilities.mean(),\n",
       "    25       500    3472009.0   6944.0      2.7              \"droplet_number_density\":droplet_number_density(multiplicity, V).si.value,\n",
       "    26       500    7704151.0  15408.3      6.1              \"precipitation_rate\":precipitation_rate(multiplicity, radii, V, alpha, beta).si.value,\n",
       "    27       500     619186.0   1238.4      0.5              \"radar_reflectivity_factor\":radar_reflectivity_factor(multiplicity,radii,V).si.value,\n",
       "    28                                                   })\n",
       "    29       500       1029.0      2.1      0.0          tables.append({\n",
       "    30       500      10019.0     20.0      0.0              \"multiplicity\":multiplicity.copy(),\n",
       "    31       500       8157.0     16.3      0.0              \"radii\": radii.copy()\n",
       "    32                                                   })\n",
       "    33         1          1.0      1.0      0.0      return diagnostics, tables"
      ]
     },
     "metadata": {},
     "output_type": "display_data"
    }
   ],
   "source": [
    "%lprun -f simulation simulation(multiplicity, radii, dt, int(5e1), V, E_jk=1e9, alpha=1, beta=1)"
   ]
  },
  {
   "cell_type": "code",
   "execution_count": 55,
   "metadata": {},
   "outputs": [
    {
     "name": "stdout",
     "output_type": "stream",
     "text": [
      "Collecting memory_profiler\n",
      "\u001b[?25l  Downloading https://files.pythonhosted.org/packages/9f/fe/1fca7273dd111108f204a686b12a12b6422d405fe4614087aa7d5a66ea87/memory_profiler-0.55.0.tar.gz (40kB)\n",
      "\u001b[K    100% |████████████████████████████████| 40kB 415kB/s \n",
      "\u001b[?25hRequirement already satisfied: psutil in /progs/miniconda3/lib/python3.7/site-packages (from memory_profiler) (5.5.1)\n",
      "Building wheels for collected packages: memory-profiler\n",
      "  Running setup.py bdist_wheel for memory-profiler ... \u001b[?25ldone\n",
      "\u001b[?25h  Stored in directory: /home/dominik/.cache/pip/wheels/f0/ff/63/fdbff3f1e1b76ad4eae491dd5b190902906b093e93eb86dd5a\n",
      "Successfully built memory-profiler\n",
      "Installing collected packages: memory-profiler\n",
      "Successfully installed memory-profiler-0.55.0\n",
      "Note: you may need to restart the kernel to use updated packages.\n"
     ]
    }
   ],
   "source": [
    "def simulation(multiplicity, radii, dt, NT, V, E_jk, alpha=1, beta=1):\n",
    "    tables = [{\"multiplicity\":multiplicity, \"radii\":radii}]\n",
    "    multiplicity = multiplicity.copy()\n",
    "    radii = radii.copy()\n",
    "    diagnostics = []\n",
    "    for i in tqdm.tqdm_notebook(range(NT)):\n",
    "        N = radii.size # this can change dynamically\n",
    "        indices_j, indices_k, P_jk = pairwise_probabilities(radii, alpha, beta, dt, V, E_jk)\n",
    "        multiplicities_j = multiplicity[indices_j]\n",
    "        multiplicities_k = multiplicity[indices_k]\n",
    "        max_multiplicities = np.max(np.vstack((multiplicities_j, multiplicities_k)), axis=0)\n",
    "        fixed_probabilities = max_multiplicities * P_jk \n",
    "        random_numbers = np.random.random(fixed_probabilities.size)\n",
    "        coalescing_pairs = fixed_probabilities > random_numbers\n",
    "        num_coalesced = coalescing_pairs.sum()\n",
    "        for j, k in zip(indices_j[coalescing_pairs], indices_k[coalescing_pairs]): # TODO rewrite this in array style\n",
    "            multiplicity[j], radii[j], multiplicity[k], radii[k] = apply_coalescence(multiplicity[j], radii[j], multiplicity[k], radii[k])\n",
    "        removed_particles = multiplicity == 0\n",
    "        multiplicity = multiplicity[~removed_particles]\n",
    "        radii = radii[~removed_particles]\n",
    "        diagnostics.append({\n",
    "            \"N_superdroplets\":N,\n",
    "            \"num_coalesced\":num_coalesced,\n",
    "            \"mean_probability\":fixed_probabilities.mean(),\n",
    "            \"droplet_number_density\":droplet_number_density(multiplicity, V).si.value,\n",
    "            \"precipitation_rate\":precipitation_rate(multiplicity, radii, V, alpha, beta).si.value,\n",
    "            \"radar_reflectivity_factor\":radar_reflectivity_factor(multiplicity,radii,V).si.value,\n",
    "        })\n",
    "        tables.append({\n",
    "            \"multiplicity\":multiplicity.copy(),\n",
    "            \"radii\": radii.copy()\n",
    "        })\n",
    "    return diagnostics, tables\n",
    "\n",
    "diagnostics, tables = simulation(multiplicity, radii, dt, int(5e2), V, E_jk=1e9, alpha=1, beta=1)\n",
    "import pandas as pd\n",
    "df = pd.DataFrame(diagnostics)\n",
    "df.plot(y=\"precipitation_rate\")\n",
    "df.tail()\n",
    "# df.plot(y=\"mean_probability\")"
   ]
  },
  {
   "cell_type": "code",
   "execution_count": null,
   "metadata": {},
   "outputs": [],
   "source": [
    "# %load_ext memory_profiler\n",
    "# %memit sum_of_lists(1000000)"
   ]
  }
 ],
 "metadata": {
  "kernelspec": {
   "display_name": "Python 3",
   "language": "python",
   "name": "python3"
  },
  "language_info": {
   "codemirror_mode": {
    "name": "ipython",
    "version": 3
   },
   "file_extension": ".py",
   "mimetype": "text/x-python",
   "name": "python",
   "nbconvert_exporter": "python",
   "pygments_lexer": "ipython3",
   "version": "3.7.3"
  }
 },
 "nbformat": 4,
 "nbformat_minor": 2
}
